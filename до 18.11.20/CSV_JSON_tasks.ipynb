{
 "cells": [
  {
   "cell_type": "markdown",
   "metadata": {},
   "source": [
    "1) Необходимо прочитать файл cinema.json, используя библиотеку json. https://docs.python.org/3/library/json.html\n",
    "\n",
    "Создать новые файлы cinema2.json и cinema2.csv, в которых для каждого кинотеатра будут отображены только следующие поля из исходного файла: \n",
    "\n",
    "* ID, \n",
    "* Краткое наименование (CommonName), \n",
    "* Адрес (текстовой строкой, только улица-дом, без индекса и района), \n",
    "* Сайт, \n",
    "* Рабочие часы по дням недели (в формате словаря \"День недели: часы работы\"), \n",
    "* Долгота, \n",
    "* Широта."
   ]
  },
  {
   "cell_type": "code",
   "execution_count": 68,
   "metadata": {
    "tags": []
   },
   "outputs": [],
   "source": [
    "import json\n",
    "import os\n",
    "lst = []\n",
    "name = 'cinema.json'\n",
    "k = 0\n",
    "with open(name, 'r') as json_file:\n",
    "    data = json.load(json_file)\n",
    "    import pandas as pd \n",
    "    df = pd.DataFrame(columns = ['global_id', 'CommonName', 'LegalAddress',\n",
    "                                            'понедельник','вторник','среда','четверг',                                                      'пятница','суббота','воскресенье','долгота',                                                    'широта'])\n",
    "\n",
    "    for i in range(len(data)):\n",
    "        dic = {}\n",
    "        ID = data[i]['global_id']\n",
    "        common_name = data[i]['CommonName'] \n",
    "        adres = data[i]['OrgInfo'][0]['LegalAddress']\n",
    "        hours = data[i]['WorkingHours']\n",
    "        dolg = data[i]['geoData']['coordinates'][0][0]\n",
    "        shir = data[i]['geoData']['coordinates'][0][1]\n",
    "        dic['global_id'] = ID\n",
    "        dic['CommonName'] = common_name\n",
    "        dic['WorkingHours'] = hours\n",
    "        dic['dolg'] = dolg\n",
    "        dic['shir'] = shir\n",
    "        with open('cinema2.json', 'a') as js_res:\n",
    "            json.dump(dic, js_res)\n",
    "        df.loc[i, 'global_id'] = ID\n",
    "        df.loc[i, 'CommonName'] = common_name\n",
    "        df.loc[i, 'LegalAddress'] = adres\n",
    "    \n",
    "        df.loc[i, 'понедельник'] = hours[0]['WorkHours']\n",
    "        df.loc[i, 'вторник'] = hours[1]['WorkHours']\n",
    "        df.loc[i, 'среда'] = hours[2]['WorkHours']\n",
    "        df.loc[i, 'четверг'] = hours[3]['WorkHours']\n",
    "        df.loc[i, 'пятница'] = hours[4]['WorkHours']\n",
    "        df.loc[i, 'суббота'] = hours[5]['WorkHours']\n",
    "        df.loc[i, 'воскресенье'] = hours[6]['WorkHours']\n",
    "        df.loc[i, 'долгота'] = dolg\n",
    "        df.loc[i, 'широта'] = shir\n",
    "    df.to_csv('cinema2.csv',encoding='ANSI',sep = ';')\n",
    "    \n",
    "        "
   ]
  },
  {
   "cell_type": "code",
   "execution_count": 61,
   "metadata": {},
   "outputs": [
    {
     "output_type": "stream",
     "name": "stdout",
     "text": [
      "[{'WorkHours': '10:00-22:00', 'DayWeek': 'понедельник'}, {'WorkHours': '10:00-22:00', 'DayWeek': 'вторник'}, {'WorkHours': '10:00-22:00', 'DayWeek': 'среда'}, {'WorkHours': '10:00-22:00', 'DayWeek': 'четверг'}, {'WorkHours': '10:00-22:00', 'DayWeek': 'пятница'}, {'WorkHours': '10:00-22:00', 'DayWeek': 'суббота'}, {'WorkHours': '10:00-22:00', 'DayWeek': 'воскресенье'}]\n"
     ]
    }
   ],
   "source": [
    "import json\n",
    "import os\n",
    "lst = []\n",
    "name = 'cinema.json'\n",
    "k = 0\n",
    "with open(name, 'r') as json_file:\n",
    "    data = json.load(json_file)\n",
    "    print(data[1]['WorkingHours'])"
   ]
  },
  {
   "cell_type": "markdown",
   "metadata": {},
   "source": [
    "2) Присутствуют два csv-файла. В одном ID и координаты узлов графа (points.csv), в другом - координаты ребер графа, полученные с географической карты (polylines.csv). Необходимо к координатам из ребер графа привязать соответствующие им узлы графа (смотреть по близости их координат) и создать csv файл с полями \"ID начального узла ребра\" и \"ID конечного узла ребра\". \n",
    "\n",
    "**Важно**: координаты узлов могут минимально расходиться с координатами начала и концов ребер, поэтому свести по точному соответствию не получится.\n",
    "\n",
    "Справка по работе с csv: https://docs.python.org/3/library/csv.html"
   ]
  },
  {
   "cell_type": "code",
   "execution_count": null,
   "metadata": {},
   "outputs": [],
   "source": []
  },
  {
   "cell_type": "markdown",
   "metadata": {},
   "source": [
    "3) Создать json-файл, состоящий из ребер графа. Каждое ребро должно иметь уникальный ID (например, номер по порядку), к которому должны быть привязаны данные о начальном узле (\"Source\"), данные о конечном узле ребра (\"Target\"). Каждый узел в json должен содержать исходный id, long (долготу) и lat (широту)."
   ]
  }
 ],
 "metadata": {
  "kernelspec": {
   "name": "python3",
   "display_name": "Python 3.9.0 64-bit",
   "metadata": {
    "interpreter": {
     "hash": "dcacb0086e9a4f4eabd41c33bf4faac5ea0a3337ed3f5eff0680afa930572c04"
    }
   }
  },
  "language_info": {
   "codemirror_mode": {
    "name": "ipython",
    "version": 3
   },
   "file_extension": ".py",
   "mimetype": "text/x-python",
   "name": "python",
   "nbconvert_exporter": "python",
   "pygments_lexer": "ipython3",
   "version": "3.9.0-final"
  }
 },
 "nbformat": 4,
 "nbformat_minor": 2
}