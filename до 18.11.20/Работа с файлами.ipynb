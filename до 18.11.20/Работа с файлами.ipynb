{
 "cells": [
  {
   "cell_type": "markdown",
   "metadata": {},
   "source": [
    "### Работа с файлами"
   ]
  },
  {
   "cell_type": "markdown",
   "metadata": {},
   "source": [
    "Режимы записи в файл"
   ]
  },
  {
   "cell_type": "markdown",
   "metadata": {},
   "source": [
    "<table>\n",
    "    <tr>\n",
    "        <th>Режим</th>\n",
    "        <th>Обозначение</th>\n",
    "    </tr>\n",
    "    <tr>\n",
    "        <td>'r'</td>\n",
    "        <td>открытие на чтение (является значением по умолчанию).</td>\n",
    "    </tr>\n",
    "    <tr>\n",
    "        <td>'w'</td>\n",
    "        <td>открытие на запись, содержимое файла удаляется, если файла не существует, создается новый.</td>\n",
    "    </tr>\n",
    "    <tr>\n",
    "        <td>'x'</td>\n",
    "        <td>открытие на запись, если файла не существует, иначе исключение.</td>\n",
    "    </tr>\n",
    "    <tr>\n",
    "        <td>'a'</td>\n",
    "        <td>открытие на дозапись, информация добавляется в конец файла.</td>\n",
    "    </tr>\n",
    "    <tr>\n",
    "        <td>'b'</td>\n",
    "        <td>открытие в двоичном режиме.</td>\n",
    "    </tr>\n",
    "    <tr>\n",
    "        <td>'t'</td>\n",
    "        <td>открытие в текстовом режиме (является значением по умолчанию).</td>\n",
    "    </tr>\n",
    "    <tr>\n",
    "        <td>'+'</td>\n",
    "        <td>открытие на чтение и запись</td>\n",
    "    </tr>\n",
    "</table>"
   ]
  },
  {
   "cell_type": "markdown",
   "metadata": {},
   "source": [
    "Режимы могут быть совмещены. НАпример, rb - открытие файла на чтение в двоичном режиме. По умолчанию стоит режим 'rt'"
   ]
  },
  {
   "cell_type": "markdown",
   "metadata": {},
   "source": [
    "За открытие файла отвечает функция <b>open</b>. Синтаксис - open(filepath, режим, encoding='utf-8'[,доп.режимы]). После того, как вы открыли файл и сделали все необходимы операции, вам необходимо закрыть его функцие close()"
   ]
  },
  {
   "cell_type": "code",
   "execution_count": 2,
   "metadata": {},
   "outputs": [
    {
     "name": "stdout",
     "output_type": "stream",
     "text": [
      "<_io.TextIOWrapper name='w.txt' mode='r' encoding='cp1251'>\n",
      "<class 'str'>\n"
     ]
    }
   ],
   "source": [
    "filename = 'w.txt'\n",
    "f = open(filename, 'r')\n",
    "print(f)\n",
    "print(f.read())\n",
    "f.close()"
   ]
  },
  {
   "cell_type": "code",
   "execution_count": 25,
   "metadata": {},
   "outputs": [
    {
     "name": "stdout",
     "output_type": "stream",
     "text": [
      "<_io.TextIOWrapper name='w.txt' mode='r' encoding='cp1251'>\n",
      "['123\\n', '456\\n', '789']\n"
     ]
    }
   ],
   "source": [
    "filename = 'w.txt'\n",
    "f = open(filename, 'r')\n",
    "print(f)\n",
    "print(f.readlines())\n",
    "f.close()"
   ]
  },
  {
   "cell_type": "markdown",
   "metadata": {},
   "source": [
    "Альтернативой данным операциям является конструкци with open(). Чаще всего используется именно она, так как когда происходит выход из конструкции, файл автоматически закрывается"
   ]
  },
  {
   "cell_type": "code",
   "execution_count": 27,
   "metadata": {},
   "outputs": [
    {
     "name": "stdout",
     "output_type": "stream",
     "text": [
      "<_io.TextIOWrapper name='w.txt' mode='r' encoding='cp1251'>\n",
      "123\n",
      "456\n",
      "789"
     ]
    }
   ],
   "source": [
    "with open('w.txt', 'r') as f:\n",
    "    print(f)\n",
    "    for line in f:\n",
    "        print(line, end='')"
   ]
  },
  {
   "cell_type": "markdown",
   "metadata": {},
   "source": [
    "Запись в файл осуществляется с помощью метода write:"
   ]
  },
  {
   "cell_type": "code",
   "execution_count": 28,
   "metadata": {},
   "outputs": [],
   "source": [
    "with open('w1.txt', 'w') as f:\n",
    "    for i in range(25):\n",
    "        f.write(str(i) + '\\n')"
   ]
  },
  {
   "cell_type": "markdown",
   "metadata": {},
   "source": [
    "В более сложных случаев алгоритм записи данных тяжело придумать формат записи данных, однако уже все придумано с помощью модулей json, pickle, csv"
   ]
  },
  {
   "cell_type": "code",
   "execution_count": null,
   "metadata": {},
   "outputs": [],
   "source": []
  }
 ],
 "metadata": {
  "kernelspec": {
   "display_name": "Python 3",
   "language": "python",
   "name": "python3"
  },
  "language_info": {
   "codemirror_mode": {
    "name": "ipython",
    "version": 3
   },
   "file_extension": ".py",
   "mimetype": "text/x-python",
   "name": "python",
   "nbconvert_exporter": "python",
   "pygments_lexer": "ipython3",
   "version": "3.6.5"
  }
 },
 "nbformat": 4,
 "nbformat_minor": 2
}
