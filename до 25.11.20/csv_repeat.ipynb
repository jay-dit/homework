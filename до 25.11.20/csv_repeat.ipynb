{
 "cells": [
  {
   "cell_type": "markdown",
   "metadata": {},
   "source": [
    "Файлы именуются в виде \"Фамилия\\_Группа\\_Вар\\_номер.ipynb\". Пример: \"Милованов\\_ПИ1-2\\_Вар\\_1.ipynb\""
   ]
  },
  {
   "cell_type": "markdown",
   "metadata": {},
   "source": [
    "Не забываем про try-except. Везде, где вы считаете, что может вылететь ошибка, вставляем try except"
   ]
  },
  {
   "cell_type": "markdown",
   "metadata": {},
   "source": [
    "Даны файлы students.csv, results.csv, groups.csv, subjects.csv, teachers.csv. Разделены \";\"\n",
    "\n",
    "Файл groups.csv имеет столбцы id, text_name, entry_year, где id - уникиальный идентификатор группы, text_name - наименование группы, entry_year - год поступления. \n",
    "\n",
    "students.csv имеет следующие столбцы: id, first_name, last_name, group_id, где id - уникальный идентификатор студента (номер зачетной книжки), first_name - Имя, last_name - фамилия, group_id - идентификатор группы, в которой он учится.\n",
    "\n",
    "result.csv имеет следующие столбцы: id - уникальный идентификатор записи, subject_id - идентификатор учебного предмета, student_id - уникальный идентификатор студента, att1 - результат первой аттестации, att2 - результат второй аттестации, exam - результат экзаменнационной или зачетной работы, total - общий результат, teacher_id - уникальный идентификатор преподавателя.\n",
    "\n",
    "subjects.csv имеет следующие столбцы: id - уникальный идентификатор предмета, subject_name - наименование предмета.\n",
    "\n",
    "teachers.csv: id - уникальный идентификатор преподавателя, first_name - Имя, last_name - фамилия, middle_name - отчество"
   ]
  },
  {
   "source": [
    "1. Написать функцию, которая принимает id преподавателя и id группы. Функция возвращает False, если данный преподаватель не преподавал у данной группы, None, если такого прподавателя не существует, иначе возвращается словарь, в котором ключами являются наименования предметов, а значениями словари, которые хранят в себе информации о количестве студентов, сдавших на 5, 4, 3 и 2 по данному предмету.\n",
    "2. Написать функцию, которая принимает ФИО преподавателя и необязательный параметр to_json, который по умолчанию равен False и принимает имя файла. Если указан параметр to_json, то он должен сохранить итоговый результат в данный файл и вернуть значение True, иначе просто вернуть словарь. В словаре ключами являются наименования групп, в которых он преподавал, а значениям - результат выполнения первой функции.\n",
    "3. Реализовать функцию, которая принимает параметры entry_year - год поступления, subject_name - наименование предмета и необязаиельный параметр to_json, по умолчанию равный False. Функция должна возвращать словарь со статистикой по группам по данному предмету. Ключами словаря являются id группы, а значениями словари. Внутренний словарь имеет ключи group_name (наименование группы), stats (статистика). Значением ключа статистика является словарь, который возвращает количество студентов получившие оценку 5, количество студентов получившие оценку 4, количество студентов получившие оценку 3, количество студентов получившие оценку 2. Если параметр to_json указан, то сохраняет полученный словарь в указанный файл и возвращает True, иначе просто возвращает словарь."
   ],
   "cell_type": "markdown",
   "metadata": {}
  },
  {
   "cell_type": "code",
   "execution_count": 1,
   "metadata": {},
   "outputs": [
    {
     "output_type": "execute_result",
     "data": {
      "text/plain": [
       "{'Web-программирование': {'5': 2, '4': 6, '3': 8, '2': 11},\n",
       " 'Микроэкономика': {'5': 3, '4': 7, '3': 9, '2': 8},\n",
       " 'Философия': {'5': 0, '4': 6, '3': 10, '2': 11}}"
      ]
     },
     "metadata": {},
     "execution_count": 1
    }
   ],
   "source": [
    "import csv\n",
    "# Если честно, то я только начал разбираться на первых трех задачах \n",
    "# И как известно, лучше знания усвиваются, если есть практика\n",
    "# Поэтому довести их до конца со всеми обработчиками ошибок \n",
    "# У меня не получилось (Первые 3)\n",
    "def prepod(name, id_gr):\n",
    "    dict1 = {}\n",
    "    with open('results.csv', newline='') as res_file:\n",
    "        rf = csv.DictReader(res_file, delimiter=';')\n",
    "        for row in rf:\n",
    "            if int(name) == int(row['teacher_id']):\n",
    "                with open('students.csv', newline='') as st_file:\n",
    "                    sf = csv.DictReader(st_file, delimiter=';')\n",
    "                    for st_row in sf:\n",
    "                        if st_row['id'] == row['student_id']:\n",
    "                            if int(st_row['group_id']) == int(id_gr):\n",
    "                                with open('subjects.csv', newline='') as sub_file:\n",
    "                                    sub = csv.DictReader(sub_file, delimiter=';')\n",
    "                                    for sub_row in sub:\n",
    "                                        if int(sub_row['id']) == int(row['subject']):\n",
    "                                            sub_name = sub_row['subject_name']\n",
    "                                            if not(sub_name in dict1.keys()):\n",
    "                                                dict1[sub_name] = {'5': 0,'4': 0,'3': 0,'2': 0}\n",
    "                                            if int(row['total']) >= int(86):\n",
    "                                                dict1[sub_name]['5'] += 1 \n",
    "                                            if int (70) <= int(row['total']) < int(86):\n",
    "                                                dict1[sub_name]['4'] += 1 \n",
    "                                            if  int(69) >= int(row['total']) >= int(50):\n",
    "                                                dict1[sub_name]['3'] += 1 \n",
    "                                            if int(row['total']) < int(50):\n",
    "                                                dict1[sub_name]['2'] += 1\n",
    "    return dict1\n",
    "prepod(1,1)\n",
    "# Я немного запутался и поэтому не могу сделать вывод при неправильных данных "
   ]
  },
  {
   "cell_type": "code",
   "execution_count": 10,
   "metadata": {},
   "outputs": [],
   "source": [
    "# Теперь попробуем упростить себе жизнь, сделаем один dataframe с помощью pandas. \n",
    "# Запихнем данные из всех таблиц в одну \n",
    "def new_file(): \n",
    "    import pandas as pd \n",
    "    result = pd.read_csv('results.csv', sep=';',encoding='ANSI')\n",
    "    teacher = pd.read_csv('teachers.csv', sep=';',encoding='ANSI')\n",
    "    subject = pd.read_csv('subjects.csv', sep=';',encoding='ANSI')\n",
    "    student = pd.read_csv('students.csv', sep=';',encoding='ANSI')\n",
    "    group = pd.read_csv('groups.csv', sep=';',encoding='ANSI')\n",
    "    result = result.merge(teacher, left_on = 'teacher_id', right_on = 'id')\n",
    "    del result['id_y']\n",
    "    result = result.merge(subject, left_on = 'subject', right_on = 'id')\n",
    "    del result['id']\n",
    "    result = result.merge(student, left_on = 'student_id', right_on = 'id')\n",
    "    del result['id']\n",
    "    result = result.merge(group, left_on = 'group_id', right_on = 'id')\n",
    "    del result['id']\n",
    "    result.to_csv('result2s.csv',encoding='ANSI')\n"
   ]
  },
  {
   "cell_type": "code",
   "execution_count": 11,
   "metadata": {},
   "outputs": [],
   "source": [
    "# Теперь напишем более продвинутую функцию для первой задачи. \n",
    "# Не хочется каждый раз создавать dataframe для нужной задачи \n",
    "# (Все манипуляции с Базами данных были сделаны исключительно для упрощения процесса)\n",
    "# Поэтому забьем на многое и запихнем код выше ^^^^^ в функцию (я уже сделал это)\n",
    "# Теперь создадим функцию для удаления \"побочного файла\"\n",
    "def del_file():\n",
    "    import os\n",
    "    os.remove('result2s.csv')\n"
   ]
  },
  {
   "cell_type": "code",
   "execution_count": 12,
   "metadata": {},
   "outputs": [
    {
     "output_type": "stream",
     "name": "stdout",
     "text": [
      "{'Web-программирование': {'5': 2, '4': 6, '3': 8, '2': 11}, 'Микроэкономика': {'5': 3, '4': 7, '3': 9, '2': 8}, 'Философия': {'5': 0, '4': 6, '3': 10, '2': 11}}\n",
      "Time elapsed:  0.07201552391052246\n",
      "{'Web-программирование': {'5': 2, '4': 6, '3': 8, '2': 11}, 'Микроэкономика': {'5': 3, '4': 7, '3': 9, '2': 8}, 'Философия': {'5': 0, '4': 6, '3': 10, '2': 11}}\n",
      "Time elapsed:  0.3410768508911133\n"
     ]
    }
   ],
   "source": [
    "# Задача 1 (2.0)\n",
    "def prepod2(F,group):\n",
    "    import csv\n",
    "    new_file()\n",
    "    dic = {}\n",
    "    k = 0\n",
    "    with open('result2s.csv', newline='') as res_file:\n",
    "        rf = csv.DictReader(res_file, delimiter=',')\n",
    "        for row in rf:\n",
    "            if (F == row['last_name_x']) and (group == row['name']):\n",
    "                if not(row['subject_name'] in dic.keys()):\n",
    "                    dic[row['subject_name']] = {'5': 0,'4': 0,'3': 0,'2': 0}\n",
    "                if int(row['total']) >= int(86):\n",
    "                    dic[row['subject_name']]['5'] += 1 \n",
    "                if int (70) <= int(row['total']) < int(86):\n",
    "                    dic[row['subject_name']]['4'] += 1 \n",
    "                if int(69) >= int(row['total']) >= int(50):\n",
    "                    dic[row['subject_name']]['3'] += 1 \n",
    "                if int(row['total']) < int(50):\n",
    "                    dic[row['subject_name']]['2'] += 1\n",
    "            if (F == row['last_name_x']):\n",
    "                k +=1\n",
    "    del_file()\n",
    "    if k == 0:\n",
    "        return print('None')\n",
    "    if not(dic) and k != 0:\n",
    "        return print('False')\n",
    "    if dic :\n",
    "        return dic\n",
    "\n",
    "import time \n",
    "t0= time.time()  \n",
    "print(prepod2('Милованов','ПИ1-1'))\n",
    "t1 = time.time() \n",
    "print(\"Time elapsed: \", t1 - t0)\n",
    "\n",
    "t0= time.time()\n",
    "print(prepod(1,1))\n",
    "t1 = time.time() \n",
    "print(\"Time elapsed: \", t1 - t0)\n",
    "# Просто интерсно :)\n"
   ]
  },
  {
   "cell_type": "code",
   "execution_count": 13,
   "metadata": {},
   "outputs": [],
   "source": [
    "# (для следующей здачи)\n",
    "# функции обращались к одному файлу и конфликтовали\n",
    "# Поэтому пришлось копировать функцию \n",
    "\n",
    "def new_file_copy():\n",
    "    import pandas as pd \n",
    "    result = pd.read_csv('results.csv', sep=';',encoding='ANSI')\n",
    "    teacher = pd.read_csv('teachers.csv', sep=';',encoding='ANSI')\n",
    "    subject = pd.read_csv('subjects.csv', sep=';',encoding='ANSI')\n",
    "    student = pd.read_csv('students.csv', sep=';',encoding='ANSI')\n",
    "    group = pd.read_csv('groups.csv', sep=';',encoding='ANSI')\n",
    "    result = result.merge(teacher, left_on = 'teacher_id', right_on = 'id')\n",
    "    del result['id_y']\n",
    "    result = result.merge(subject, left_on = 'subject', right_on = 'id')\n",
    "    del result['id']\n",
    "    result = result.merge(student, left_on = 'student_id', right_on = 'id')\n",
    "    del result['id']\n",
    "    result = result.merge(group, left_on = 'group_id', right_on = 'id')\n",
    "    del result['id']\n",
    "    result.to_csv('result23s.csv',encoding='ANSI')\n",
    "def del_file_copy():\n",
    "    import os\n",
    "    os.remove('result23s.csv')"
   ]
  },
  {
   "cell_type": "code",
   "execution_count": 14,
   "metadata": {},
   "outputs": [
    {
     "output_type": "stream",
     "name": "stdout",
     "text": [
      "{'ПИ1-1': {'Web-программирование': {'2': 11, '3': 8, '4': 6, '5': 2},\n           'Микроэкономика': {'2': 8, '3': 9, '4': 7, '5': 3},\n           'Философия': {'2': 11, '3': 10, '4': 6, '5': 0}},\n 'ПИ1-2': {'Математический анализ': {'2': 7, '3': 8, '4': 8, '5': 2},\n           'Философия': {'2': 12, '3': 9, '4': 4, '5': 0}},\n 'ПИ1-3': {'Дискретная математика': {'2': 9, '3': 8, '4': 4, '5': 5}},\n 'ПИ1-4': {'Линейная алгебра': {'2': 9, '3': 10, '4': 5, '5': 2},\n           'Современные языки программирования': {'2': 7,\n                                                  '3': 11,\n                                                  '4': 6,\n                                                  '5': 2}},\n 'ПИ4-1': {'Макроэкономика': {'2': 9, '3': 3, '4': 5, '5': 1},\n           'Математический анализ': {'2': 4, '3': 6, '4': 8, '5': 0}},\n 'ПИ4-2': {'Вычислительные системы и сетевые телекоммуникации': {'2': 7,\n                                                                 '3': 8,\n                                                                 '4': 4,\n                                                                 '5': 0},\n           'Корпоративные информационные системы': {'2': 6,\n                                                    '3': 5,\n                                                    '4': 7,\n                                                    '5': 1}},\n 'ПИ4-3': {'Функциональное программирование': {'2': 5, '3': 8, '4': 3, '5': 2}},\n 'ПМ1-1': {'Информационная безопасность': {'2': 9, '3': 6, '4': 11, '5': 0},\n           'Корпоративные информационные системы': {'2': 10,\n                                                    '3': 9,\n                                                    '4': 7,\n                                                    '5': 0}},\n 'ПМ1-2': {'Web-программирование': {'2': 7, '3': 10, '4': 4, '5': 3},\n           'Вычислительные системы и сетевые телекоммуникации': {'2': 12,\n                                                                 '3': 5,\n                                                                 '4': 6,\n                                                                 '5': 1},\n           'Дискретная математика': {'2': 9, '3': 10, '4': 5, '5': 0}},\n 'ПМ1-3': {'Алгоритмы и структуры данных': {'2': 5, '3': 13, '4': 6, '5': 0},\n           'Базы данных': {'2': 3, '3': 11, '4': 8, '5': 2},\n           'Дискретная математика': {'2': 10, '3': 4, '4': 8, '5': 2},\n           'Микроэкономика': {'2': 9, '3': 9, '4': 5, '5': 1},\n           'Функциональное программирование': {'2': 8, '3': 7, '4': 9, '5': 0}},\n 'ПМ1-5': {'Английский язык': {'2': 10, '3': 5, '4': 7, '5': 3}}}\n"
     ]
    }
   ],
   "source": [
    "import pprint as pp\n",
    "# Задача №2 \n",
    "def task2(F):\n",
    "    new_file_copy()\n",
    "    dic1 = {}\n",
    "    with open('result23s.csv', newline='') as res_file:\n",
    "        rf = csv.DictReader(res_file, delimiter=',')\n",
    "        for row in rf:\n",
    "            if F == row['last_name_x']:\n",
    "                if not(row['name'] in dic1.keys()):\n",
    "                    dic1[row['name']] = prepod2(F,row['name'])\n",
    "    del_file_copy()\n",
    "    return dic1\n",
    "pp.pprint(task2('Милованов'))\n"
   ]
  },
  {
   "cell_type": "code",
   "execution_count": 15,
   "metadata": {},
   "outputs": [
    {
     "output_type": "stream",
     "name": "stdout",
     "text": [
      "{'1': {'group_name': 'ПИ1-1', 'stats': {'2': 11, '3': 8, '4': 5, '5': 3}},\n '10': {'group_name': 'ПМ1-5', 'stats': {'2': 12, '3': 6, '4': 6, '5': 1}},\n '13': {'group_name': 'ПИ4-1', 'stats': 'Поступили не в это год'},\n '14': {'group_name': 'ПИ4-2', 'stats': 'Поступили не в это год'},\n '15': {'group_name': 'ПИ4-3', 'stats': 'Поступили не в это год'},\n '2': {'group_name': 'ПИ1-2', 'stats': {'2': 9, '3': 8, '4': 7, '5': 1}},\n '3': {'group_name': 'ПИ1-3', 'stats': {'2': 9, '3': 12, '4': 5, '5': 0}},\n '4': {'group_name': 'ПИ1-4', 'stats': {'2': 8, '3': 10, '4': 8, '5': 0}},\n '5': {'group_name': 'ПМ1-1', 'stats': {'2': 10, '3': 12, '4': 3, '5': 1}},\n '6': {'group_name': 'ПМ1-2', 'stats': {'2': 7, '3': 10, '4': 4, '5': 3}},\n '7': {'group_name': 'ПМ1-3', 'stats': {'2': 11, '3': 7, '4': 5, '5': 1}},\n '8': {'group_name': 'ПМ1-4', 'stats': {'2': 6, '3': 12, '4': 6, '5': 1}},\n '9': {'group_name': 'ПИ2-2', 'stats': 'Поступили не в это год'}}\n"
     ]
    }
   ],
   "source": [
    "# Задача №3\n",
    "import pprint as pp\n",
    "# ---Функция для заполнения статистики---\n",
    "def statistics(gr_name,year,sub):\n",
    "    new_file_copy()\n",
    "    st_dict = {'5': 0,'4': 0,'3': 0,'2': 0}\n",
    "    k = 0\n",
    "    with open('result23s.csv', newline='') as res_file:\n",
    "        rf = csv.DictReader(res_file, delimiter=',')\n",
    "        for row in rf:\n",
    "            if int(year) == int(row['entry_year']) and (gr_name == row['name']) and (sub == row['subject_name']):\n",
    "                if int(row['total']) >=85 :\n",
    "                    st_dict['5'] += 1\n",
    "                if 69 < int(row['total']) < 85 :\n",
    "                    st_dict['4'] += 1\n",
    "                if 69 >= int(row['total']) >= 50 :\n",
    "                    st_dict['3'] += 1\n",
    "                if int(row['total']) < 50 :\n",
    "                    st_dict['2'] += 1\n",
    "                k += 1\n",
    "    del_file_copy()\n",
    "    if k != 0:\n",
    "        return st_dict\n",
    "    else:\n",
    "        return 'Поступили не в это год'\n",
    "# ---Функция для заполнения статистики---\n",
    "# ---Задача---\n",
    "def task3(entry_year, subject):\n",
    "    new_file()\n",
    "    dic = {}\n",
    "    with open('result2s.csv', newline='') as res_file:\n",
    "        rf = csv.DictReader(res_file, delimiter=',')\n",
    "        for row in rf:\n",
    "            if not(row['group_id'] in dic.keys()):\n",
    "                dic[row['group_id']] = {'group_name': row['name'], 'stats' : statistics(row['name'],entry_year,subject)}\n",
    "                \n",
    "    del_file()\n",
    "    return dic\n",
    "# ---Задача---\n",
    "pp.pprint(task3(2018,'Web-программирование'))"
   ]
  },
  {
   "source": [
    "1. Реализовать функцию, которая по уникальному идентификатору студента возвращает его сумму баллов по каждому из контрольных мероприятий, в том числе total\n"
   ],
   "cell_type": "markdown",
   "metadata": {}
  },
  {
   "cell_type": "code",
   "execution_count": 16,
   "metadata": {},
   "outputs": [
    {
     "output_type": "execute_result",
     "data": {
      "text/plain": [
       "    att1  att2  exam  total                                       subject_name\n",
       "0     18     9    34     61                               Web-программирование\n",
       "1     10    14    41     65                       Алгоритмы и структуры данных\n",
       "2     20     9    50     79                                    Английский язык\n",
       "3     11    12    34     57                                        Базы данных\n",
       "4      5    14    43     62  Вычислительные системы и сетевые телекоммуникации\n",
       "5     11     6    16     33                              Дискретная математика\n",
       "6     19     5    53     77                        Институциональная экономика\n",
       "7     12    18    34     64                        Информационная безопасность\n",
       "8      6    15    41     62                Информационные системы и технологии\n",
       "9     20    19    22     61               Корпоративные информационные системы\n",
       "10    17    20    49     86                                   Линейная алгебра\n",
       "11    19     9    27     55                                     Макроэкономика\n",
       "12    17    18     9     44                              Математический анализ\n",
       "13     5    16    10     31                                     Микроэкономика\n",
       "14    16    14    50     80              Программированиие облачных приложений\n",
       "15     5    15    37     57                              Программная инженерия\n",
       "16     9    10    32     51                      Реинжиниринг бизнес-процессов\n",
       "17    13     8    50     71                 Современные языки программирования\n",
       "18    11    16    59     86                                          Философия\n",
       "19     9    12    11     32                    Функциональное программирование"
      ],
      "text/html": "<div>\n<style scoped>\n    .dataframe tbody tr th:only-of-type {\n        vertical-align: middle;\n    }\n\n    .dataframe tbody tr th {\n        vertical-align: top;\n    }\n\n    .dataframe thead th {\n        text-align: right;\n    }\n</style>\n<table border=\"1\" class=\"dataframe\">\n  <thead>\n    <tr style=\"text-align: right;\">\n      <th></th>\n      <th>att1</th>\n      <th>att2</th>\n      <th>exam</th>\n      <th>total</th>\n      <th>subject_name</th>\n    </tr>\n  </thead>\n  <tbody>\n    <tr>\n      <th>0</th>\n      <td>18</td>\n      <td>9</td>\n      <td>34</td>\n      <td>61</td>\n      <td>Web-программирование</td>\n    </tr>\n    <tr>\n      <th>1</th>\n      <td>10</td>\n      <td>14</td>\n      <td>41</td>\n      <td>65</td>\n      <td>Алгоритмы и структуры данных</td>\n    </tr>\n    <tr>\n      <th>2</th>\n      <td>20</td>\n      <td>9</td>\n      <td>50</td>\n      <td>79</td>\n      <td>Английский язык</td>\n    </tr>\n    <tr>\n      <th>3</th>\n      <td>11</td>\n      <td>12</td>\n      <td>34</td>\n      <td>57</td>\n      <td>Базы данных</td>\n    </tr>\n    <tr>\n      <th>4</th>\n      <td>5</td>\n      <td>14</td>\n      <td>43</td>\n      <td>62</td>\n      <td>Вычислительные системы и сетевые телекоммуникации</td>\n    </tr>\n    <tr>\n      <th>5</th>\n      <td>11</td>\n      <td>6</td>\n      <td>16</td>\n      <td>33</td>\n      <td>Дискретная математика</td>\n    </tr>\n    <tr>\n      <th>6</th>\n      <td>19</td>\n      <td>5</td>\n      <td>53</td>\n      <td>77</td>\n      <td>Институциональная экономика</td>\n    </tr>\n    <tr>\n      <th>7</th>\n      <td>12</td>\n      <td>18</td>\n      <td>34</td>\n      <td>64</td>\n      <td>Информационная безопасность</td>\n    </tr>\n    <tr>\n      <th>8</th>\n      <td>6</td>\n      <td>15</td>\n      <td>41</td>\n      <td>62</td>\n      <td>Информационные системы и технологии</td>\n    </tr>\n    <tr>\n      <th>9</th>\n      <td>20</td>\n      <td>19</td>\n      <td>22</td>\n      <td>61</td>\n      <td>Корпоративные информационные системы</td>\n    </tr>\n    <tr>\n      <th>10</th>\n      <td>17</td>\n      <td>20</td>\n      <td>49</td>\n      <td>86</td>\n      <td>Линейная алгебра</td>\n    </tr>\n    <tr>\n      <th>11</th>\n      <td>19</td>\n      <td>9</td>\n      <td>27</td>\n      <td>55</td>\n      <td>Макроэкономика</td>\n    </tr>\n    <tr>\n      <th>12</th>\n      <td>17</td>\n      <td>18</td>\n      <td>9</td>\n      <td>44</td>\n      <td>Математический анализ</td>\n    </tr>\n    <tr>\n      <th>13</th>\n      <td>5</td>\n      <td>16</td>\n      <td>10</td>\n      <td>31</td>\n      <td>Микроэкономика</td>\n    </tr>\n    <tr>\n      <th>14</th>\n      <td>16</td>\n      <td>14</td>\n      <td>50</td>\n      <td>80</td>\n      <td>Программированиие облачных приложений</td>\n    </tr>\n    <tr>\n      <th>15</th>\n      <td>5</td>\n      <td>15</td>\n      <td>37</td>\n      <td>57</td>\n      <td>Программная инженерия</td>\n    </tr>\n    <tr>\n      <th>16</th>\n      <td>9</td>\n      <td>10</td>\n      <td>32</td>\n      <td>51</td>\n      <td>Реинжиниринг бизнес-процессов</td>\n    </tr>\n    <tr>\n      <th>17</th>\n      <td>13</td>\n      <td>8</td>\n      <td>50</td>\n      <td>71</td>\n      <td>Современные языки программирования</td>\n    </tr>\n    <tr>\n      <th>18</th>\n      <td>11</td>\n      <td>16</td>\n      <td>59</td>\n      <td>86</td>\n      <td>Философия</td>\n    </tr>\n    <tr>\n      <th>19</th>\n      <td>9</td>\n      <td>12</td>\n      <td>11</td>\n      <td>32</td>\n      <td>Функциональное программирование</td>\n    </tr>\n  </tbody>\n</table>\n</div>"
     },
     "metadata": {},
     "execution_count": 16
    }
   ],
   "source": [
    "# Задача №1\n",
    "def student1(ind):\n",
    "    try :\n",
    "        ind = int(ind)       \n",
    "        import pandas as pd \n",
    "        result = pd.read_csv('results.csv', sep=';',encoding='ANSI') # Читаем главную таблицу\n",
    "        del result['id'], result['teacher_id'] # Удаляем ненужные столбцы\n",
    "        result = result[result['student_id'] == ind] # Ищем нужного студента\n",
    "        if not(result.empty): # Если нашли хоть что-то \n",
    "            subject = pd.read_csv('subjects.csv', sep=';',encoding='ANSI') # Читаем таблицу с предметами\n",
    "            result = result.merge(subject, left_on = 'subject', right_on = 'id') # Клеим Предметы по id \n",
    "            del result['id'], result['subject'], result['student_id'] # Удаляем ненужные столбцы\n",
    "            return result # Выводим\n",
    "        else:\n",
    "            return 'Такого студента не существует'\n",
    "    except ValueError:\n",
    "        return 'Не верный формат id'\n",
    "student1(180701)"
   ]
  },
  {
   "source": [
    "Реализовать функцию, которая принимает параметры thread - поток в виде (ПИ2018), где буквами является наименование направления, а число - год поступления, необязательный параметр test, который по умолчанию равен total (список возможных значений att1, att2, exam, total), а также необязательный параметр to_json=False. Если параметр указан, то результат выполнения функции должен записываться в файл и функция возвращает True, если такого потока не существует, то возвращает None, иначе возвращает результат функции. \n",
    "\n",
    "\n",
    "Результатом выполнения функции является словарь с рейтингом студентов по указанному из периодов в параметре test. \n",
    "\n",
    "Ключом словаря является место студента в рейтинге, значением - словарь с информацией из файла students.csv, а также информацию, которая возвращается после выполнения первой функции."
   ],
   "cell_type": "markdown",
   "metadata": {}
  },
  {
   "cell_type": "code",
   "execution_count": 17,
   "metadata": {},
   "outputs": [
    {
     "output_type": "execute_result",
     "data": {
      "text/plain": [
       "'Ничего не найдено'"
      ]
     },
     "metadata": {},
     "execution_count": 17
    }
   ],
   "source": [
    "# Задача №2 \n",
    "def task_2v2(thread,test = 'total', to_json = False):\n",
    "    try:\n",
    "        import pandas as pd\n",
    "        result = pd.read_csv('results.csv', sep=';',encoding='ANSI') # читаем таблицу\n",
    "        result = result[['student_id',test,]] # Оставляем нужные столбцы\n",
    "        student = pd.read_csv('students.csv', sep=';',encoding='ANSI') # Читаем вторую таблицу\n",
    "        result = result.merge(student, left_on = 'student_id', right_on = 'id') # Склеиваем \n",
    "        del result['id'], student # Удаляем ненужные столбцы\n",
    "        group = pd.read_csv('groups.csv', sep=';',encoding='ANSI') # Читаем еще\n",
    "        result = result.merge(group, left_on = 'group_id', right_on = 'id') # склеиваем\n",
    "        del result['id'], group # удаляем\n",
    "        result['name'] = result.name.str.extract(pat ='({})'.format(thread[0:2]))# Форматируем строку по образцу\n",
    "        # Удаляем всё что идет после ПИ \n",
    "        result = result[ (result['entry_year'] == int(thread[2:])) & (result['name'] == thread[0:2])] # Сохраняем только нужных учеников\n",
    "        # И тут я столкнулся с проблемой, а какой топ ? Топ чего ? Просто если отсортировать столбец по \n",
    "        # значению, то в топе один и тот же человек может занимать несколько мест. Из-за этой неопределенности \n",
    "        # я буду выбирать у каждого человека лучший результат и выстраивать из этих значений топ\n",
    "        del result['name'], result['entry_year']# Удаляем\n",
    "        support_df1 = pd.DataFrame(columns=['student_id', 'att1', 'last_name', 'first_name'])# Побочники\n",
    "        support_df2 = pd.DataFrame(columns=['student_id', 'att1', 'last_name', 'first_name'])# Побочники\n",
    "        for i in pd.unique(result['student_id']): # Проходимся по уникальным Id учеников\n",
    "            del support_df1 # Очищаем 1 побочника\n",
    "            support_df1 = pd.DataFrame(columns=['student_id', 'att1', 'last_name', 'first_name']) # Очищаем 1 побочника\n",
    "            support_df1 = pd.concat([support_df1, result[result['student_id'] == i]]) # Даем первому побочнику все резы одно ученика\n",
    "            support_df1 = support_df1[support_df1['{}'.format(test)] == support_df1['{}'.format(test)].max()] # Ищем максимальные резы\n",
    "            support_df1 = support_df1.reset_index(drop=True) # Ресетаем индексы, чтобы легче обращаться к строкам\n",
    "            support_df2 = pd.concat([support_df2,support_df1.head(1)]) # Приклеиваем ко второму побочнику только один макимальный результат\n",
    "        del result, support_df1 # удаляем побочников\n",
    "        support_df2 = support_df2.sort_values('{}'.format(test))[::-1]# Делаем топ\n",
    "        support_df2 = support_df2.reset_index(drop=True) # ресетаем индексы(места)\n",
    "        # Итак, у нас есть таблица, где отсортированы все ученики по значения test \n",
    "        # по своему максималному результату.\n",
    "        del support_df2['{}'.format(test)],\n",
    "        dic = {}\n",
    "        for i in range(len(support_df2)):\n",
    "            row = support_df2.loc[i]\n",
    "            dic[i + 1] = {}\n",
    "            dic[i + 1]['student_id'] = row['student_id']\n",
    "            dic[i + 1]['last_name'] = row['last_name']\n",
    "            dic[i + 1]['first_name'] = row['first_name']\n",
    "            dic[i + 1]['group_id'] = row['group_id']\n",
    "            dic[i + 1]['zadacha1'] = {}\n",
    "            result = student1('{}'.format(row['student_id']))\n",
    "            for j in range(len(result)):\n",
    "                row_res = result.loc[j]\n",
    "                dic[i + 1]['zadacha1']['subject_name_{}'.format(j)] = row_res['subject_name']\n",
    "                dic[i + 1]['zadacha1']['att1_{}'.format(j)] = row_res['att1'] \n",
    "                dic[i + 1]['zadacha1']['att2_{}'.format(j)] = row_res['att2']\n",
    "                dic[i + 1]['zadacha1']['exam_{}'.format(j)] = row_res['exam']\n",
    "                dic[i + 1]['zadacha1']['total_{}'.format(j)] = row_res['total']\n",
    "        if not(dic):\n",
    "            dic = 'Ничего не найдено'\n",
    "        if to_json:\n",
    "            with open('{}.json'.format(to_json), 'w') as f:\n",
    "                json.dump(dic, f)\n",
    "                return True\n",
    "        else:\n",
    "            return dic\n",
    "    except:\n",
    "        return 'Ничего кроме как неправильно введенных данных произойти не могло'\n",
    "task_2v2('ПQ2018','att1') # если ввести вместо Q ну например И, то вылезет ОГРОМНАЯ табличка"
   ]
  },
  {
   "source": [
    "3. Написать функцию, которая принимает  имя группы, год поступления и наименование предмета. Также функция принимает необязательный параметр to_json, который по умолчанию равен False и принимает имя файла. Функция должна вернуть словарь, которая содержит оценки всех студентов данной группы по данному предмету. Ключом является id студента, значением словарь, который содержит полное имя студента и итоговый балл.  Если to_json указывает имя файла, то сохранить результаты в файл и функция возвращает значение True, иначе возвращает получившийся словарь."
   ],
   "cell_type": "markdown",
   "metadata": {}
  },
  {
   "cell_type": "code",
   "execution_count": 18,
   "metadata": {},
   "outputs": [
    {
     "output_type": "execute_result",
     "data": {
      "text/plain": [
       "{180101: {'total': 90, 'name': 'Абдуллина Дария'},\n",
       " 180102: {'total': 75, 'name': 'Арутюнян Микаель'},\n",
       " 180103: {'total': 42, 'name': 'Балашов Михаил'},\n",
       " 180104: {'total': 73, 'name': 'Бесонг Тидиан'},\n",
       " 180105: {'total': 56, 'name': 'Бобылев Андрей'},\n",
       " 180106: {'total': 90, 'name': 'Борисов Михаил'},\n",
       " 180107: {'total': 71, 'name': 'Гриднев Дмитрий'},\n",
       " 180108: {'total': 68, 'name': 'Демидов Николай'},\n",
       " 180109: {'total': 86, 'name': 'Доронин Александр'},\n",
       " 180110: {'total': 71, 'name': 'Егоров Кирилл'},\n",
       " 180111: {'total': 47, 'name': 'Зарецкая Виктория'},\n",
       " 180112: {'total': 44, 'name': 'Златински Кирил'},\n",
       " 180113: {'total': 78, 'name': 'Калугина Евгения'},\n",
       " 180114: {'total': 56, 'name': 'Когут Мария'},\n",
       " 180115: {'total': 77, 'name': 'Коломенская Александра'},\n",
       " 180116: {'total': 66, 'name': 'Краснова Олеся'},\n",
       " 180117: {'total': 61, 'name': 'Крылова Дарья'},\n",
       " 180118: {'total': 88, 'name': 'Михайлов Никита'},\n",
       " 180119: {'total': 46, 'name': 'Павлова Полина'},\n",
       " 180120: {'total': 36, 'name': 'Плетнёв Антон'},\n",
       " 180121: {'total': 62, 'name': 'Пыльцына Анастасия'},\n",
       " 180122: {'total': 36, 'name': 'Радостев Андрей'},\n",
       " 180123: {'total': 42, 'name': 'Сырченко Арина'},\n",
       " 180124: {'total': 40, 'name': 'Хрекин Артем'},\n",
       " 180125: {'total': 69, 'name': 'Чинь Хунг'},\n",
       " 180126: {'total': 78, 'name': 'Шелягин Владислав'},\n",
       " 180127: {'total': 85, 'name': 'Шилов Константин'}}"
      ]
     },
     "metadata": {},
     "execution_count": 18
    }
   ],
   "source": [
    "def task_3v2(name, sub, to_json = False):\n",
    "    import pandas as pd\n",
    "    result = pd.read_csv('results.csv', sep=';',encoding='ANSI') # читаем таблицу\n",
    "    subject = pd.read_csv('subjects.csv', sep=';',encoding='ANSI')\n",
    "    student = pd.read_csv('students.csv', sep=';',encoding='ANSI')\n",
    "    group = pd.read_csv('groups.csv', sep=';',encoding='ANSI')\n",
    "    if (name in pd.unique(group['name'])) and (sub in pd.unique(subject['subject_name'])):\n",
    "        result = result[['student_id','subject','total']] # Оставляем нужные столбцы   \n",
    "        result = result.merge(subject, left_on = 'subject', right_on = 'id')\n",
    "        result = result[result.subject_name == sub]\n",
    "        del result['id'], subject\n",
    "        result = result.merge(student, left_on = 'student_id', right_on = 'id')\n",
    "        result = result[['total','student_id','last_name','first_name','group_id']] \n",
    "        del student\n",
    "        result = result.merge(group, left_on = 'group_id', right_on = 'id')\n",
    "        del group\n",
    "        result = result[['total','student_id','last_name','first_name','name']]\n",
    "        result = result[result.name == name]\n",
    "        del result['name']\n",
    "        result = result.reset_index(drop=True)\n",
    "        dic = {}\n",
    "        for i in range(len(result)):\n",
    "            row = result.loc[i]\n",
    "            dic[row['student_id']] = {}\n",
    "            dic[row['student_id']]['total'] = row['total']\n",
    "            dic[row['student_id']]['name'] = row['last_name'] + ' ' + row['first_name']\n",
    "        del result\n",
    "        if to_json:\n",
    "            with open('{}.json'.format(to_json), 'w') as f:\n",
    "                json.dump(dic, f)\n",
    "            return True\n",
    "        else:\n",
    "            return dic\n",
    "    else:\n",
    "        return 'Не верные данные'\n",
    "task_3v2('ПИ1-1', 'Английский язык')"
   ]
  }
 ],
 "metadata": {
  "kernelspec": {
   "name": "python3",
   "display_name": "Python 3.9.0 64-bit",
   "metadata": {
    "interpreter": {
     "hash": "dcacb0086e9a4f4eabd41c33bf4faac5ea0a3337ed3f5eff0680afa930572c04"
    }
   }
  },
  "language_info": {
   "codemirror_mode": {
    "name": "ipython",
    "version": 3
   },
   "file_extension": ".py",
   "mimetype": "text/x-python",
   "name": "python",
   "nbconvert_exporter": "python",
   "pygments_lexer": "ipython3",
   "version": "3.9.0-final"
  }
 },
 "nbformat": 4,
 "nbformat_minor": 2
}